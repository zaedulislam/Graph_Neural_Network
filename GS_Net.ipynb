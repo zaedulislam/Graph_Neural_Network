{
  "nbformat": 4,
  "nbformat_minor": 0,
  "metadata": {
    "colab": {
      "provenance": [],
      "authorship_tag": "ABX9TyP3p+hhj2VAtdsEB5mice33",
      "include_colab_link": true
    },
    "kernelspec": {
      "name": "python3",
      "display_name": "Python 3"
    },
    "language_info": {
      "name": "python"
    }
  },
  "cells": [
    {
      "cell_type": "markdown",
      "metadata": {
        "id": "view-in-github",
        "colab_type": "text"
      },
      "source": [
        "<a href=\"https://colab.research.google.com/github/zaedulislam/Graph_Neural_Networks/blob/main/GS_Net.ipynb\" target=\"_parent\"><img src=\"https://colab.research.google.com/assets/colab-badge.svg\" alt=\"Open In Colab\"/></a>"
      ]
    },
    {
      "cell_type": "markdown",
      "source": [
        "## Import Libraries"
      ],
      "metadata": {
        "id": "DhipLcnuU-6O"
      }
    },
    {
      "cell_type": "code",
      "execution_count": 8,
      "metadata": {
        "id": "YHXR6odgU5e0"
      },
      "outputs": [],
      "source": [
        "import torch\n",
        "import matplotlib.pyplot as plt\n",
        "import numpy as np\n",
        "import networkx as nx\n",
        "import scipy"
      ]
    },
    {
      "cell_type": "markdown",
      "source": [
        "## Skeleton Graph"
      ],
      "metadata": {
        "id": "a2YHHabaVUvy"
      }
    },
    {
      "cell_type": "markdown",
      "source": [
        "### Skeleton Edges"
      ],
      "metadata": {
        "id": "_lQ1GhjxVX0W"
      }
    },
    {
      "cell_type": "code",
      "source": [
        "# neighbour_base = [(0, 1), (1, 2), (2, 3), (0, 4), (4, 5), (5, 6),\n",
        "#                   (0, 7), (7, 8), (8, 9), (8, 10), (10, 11),\n",
        "#                   (12, 11), (8, 13), (13, 14), (14, 15)]\n",
        "\n",
        "neighbour_base = [(0, 1), (1, 2), (2, 3)]"
      ],
      "metadata": {
        "id": "k34dGF6zVC9A"
      },
      "execution_count": 9,
      "outputs": []
    },
    {
      "cell_type": "markdown",
      "source": [
        "### Creating skeleton graph"
      ],
      "metadata": {
        "id": "d5Len8qUViK_"
      }
    },
    {
      "cell_type": "code",
      "source": [
        "G = nx.Graph(neighbour_base)"
      ],
      "metadata": {
        "id": "Bynh-bvYVVFM"
      },
      "execution_count": 10,
      "outputs": []
    },
    {
      "cell_type": "markdown",
      "source": [
        "### Adjacency matrix of skeleton (G)"
      ],
      "metadata": {
        "id": "Gpljlx21VlDU"
      }
    },
    {
      "cell_type": "code",
      "source": [
        "A = nx.adjacency_matrix(G)\n",
        "print(A)"
      ],
      "metadata": {
        "id": "vhHAf-6iVnfE",
        "outputId": "6c1a9d34-217a-440e-f597-87b8e010a06f",
        "colab": {
          "base_uri": "https://localhost:8080/"
        }
      },
      "execution_count": 11,
      "outputs": [
        {
          "output_type": "stream",
          "name": "stdout",
          "text": [
            "  (0, 1)\t1\n",
            "  (1, 0)\t1\n",
            "  (1, 2)\t1\n",
            "  (2, 1)\t1\n",
            "  (2, 3)\t1\n",
            "  (3, 2)\t1\n"
          ]
        }
      ]
    },
    {
      "cell_type": "code",
      "source": [
        "A = A.todense()\n",
        "print(\"Adjacency matrix representation of G:\\n\", A)"
      ],
      "metadata": {
        "id": "sOn-ZvniVqQP",
        "outputId": "f02c56c7-db8c-4b25-9378-6450b608324d",
        "colab": {
          "base_uri": "https://localhost:8080/"
        }
      },
      "execution_count": 12,
      "outputs": [
        {
          "output_type": "stream",
          "name": "stdout",
          "text": [
            "Adjacency matrix representation of G:\n",
            " [[0 1 0 0]\n",
            " [1 0 1 0]\n",
            " [0 1 0 1]\n",
            " [0 0 1 0]]\n"
          ]
        }
      ]
    },
    {
      "cell_type": "code",
      "source": [
        "def normalize_adjacency_matrix(A):\n",
        "    Dl = np.sum(A, 0)\n",
        "    num_node = A.shape[0]\n",
        "    Dn = np.zeros((num_node, num_node))\n",
        "    \n",
        "    for i in range(num_node):\n",
        "        if Dl[i] > 0:\n",
        "            Dn[i, i] = Dl[i]**(-1/2)\n",
        "    \n",
        "    DAD = np.dot(np.dot(Dn, A), Dn)\n",
        "\n",
        "    return DAD"
      ],
      "metadata": {
        "id": "wTSelg21Xc4T"
      },
      "execution_count": null,
      "outputs": []
    },
    {
      "cell_type": "code",
      "source": [
        "beta = 0.2\n",
        "DAD = beta * normalize_adjacency_matrix(A)"
      ],
      "metadata": {
        "id": "xs-7Cch1X2yT"
      },
      "execution_count": null,
      "outputs": []
    },
    {
      "cell_type": "markdown",
      "source": [
        "### Display Lower Triangular Matrix"
      ],
      "metadata": {
        "id": "wOrrLjwjYO4y"
      }
    },
    {
      "cell_type": "code",
      "source": [
        "DAD_lower = np.tril(DAD)\n",
        "print(DAD_lower)"
      ],
      "metadata": {
        "id": "nqsth1ajYNKm"
      },
      "execution_count": null,
      "outputs": []
    },
    {
      "cell_type": "markdown",
      "source": [
        "### Display Upper Triangular Matrix"
      ],
      "metadata": {
        "id": "xBJKrq6xY1Y6"
      }
    },
    {
      "cell_type": "code",
      "source": [
        "DAD_upper = np.triu(DAD)\n",
        "print(DAD)"
      ],
      "metadata": {
        "id": "og4aB15MYs_S"
      },
      "execution_count": null,
      "outputs": []
    },
    {
      "cell_type": "markdown",
      "source": [
        "### Check if lower triangular and upper triangular matrix are equal"
      ],
      "metadata": {
        "id": "6TLLlQFLcxwj"
      }
    },
    {
      "cell_type": "code",
      "source": [
        "DAD_upper_transpose = DAD_upper.transpose()\n",
        "\n",
        "if np.array_equal(DAD_lower, DAD_upper_transpose):\n",
        "    print(\"lower triangular and upper triangular matrices are equal\")"
      ],
      "metadata": {
        "id": "iATUXJ5GdBFq"
      },
      "execution_count": null,
      "outputs": []
    }
  ]
}
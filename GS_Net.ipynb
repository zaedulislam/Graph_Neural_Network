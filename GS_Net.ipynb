{
  "nbformat": 4,
  "nbformat_minor": 0,
  "metadata": {
    "colab": {
      "provenance": [],
      "authorship_tag": "ABX9TyPSHcvKKYfaGWpFdaMxyHej",
      "include_colab_link": true
    },
    "kernelspec": {
      "name": "python3",
      "display_name": "Python 3"
    },
    "language_info": {
      "name": "python"
    }
  },
  "cells": [
    {
      "cell_type": "markdown",
      "metadata": {
        "id": "view-in-github",
        "colab_type": "text"
      },
      "source": [
        "<a href=\"https://colab.research.google.com/github/zaedulislam/Graph_Neural_Networks/blob/main/GS_Net.ipynb\" target=\"_parent\"><img src=\"https://colab.research.google.com/assets/colab-badge.svg\" alt=\"Open In Colab\"/></a>"
      ]
    },
    {
      "cell_type": "markdown",
      "source": [
        "## Import Libraries"
      ],
      "metadata": {
        "id": "DhipLcnuU-6O"
      }
    },
    {
      "cell_type": "code",
      "execution_count": 105,
      "metadata": {
        "id": "YHXR6odgU5e0"
      },
      "outputs": [],
      "source": [
        "import torch\n",
        "import matplotlib.pyplot as plt\n",
        "import numpy as np\n",
        "import networkx as nx\n",
        "import scipy"
      ]
    },
    {
      "cell_type": "markdown",
      "source": [
        "### Step 1: Create the adjacency matrix"
      ],
      "metadata": {
        "id": "hDCSroluZdqy"
      }
    },
    {
      "cell_type": "code",
      "source": [
        "A = np.array([[0, 1, 0, 1],\n",
        "                [1, 0, 1, 0],\n",
        "                [0, 1, 0, 1],\n",
        "                [1, 0, 1, 0]])\n",
        "\n",
        "print(A)"
      ],
      "metadata": {
        "id": "vhHAf-6iVnfE",
        "outputId": "8018e9f6-2779-438d-be26-06a3631d7b0b",
        "colab": {
          "base_uri": "https://localhost:8080/"
        }
      },
      "execution_count": 106,
      "outputs": [
        {
          "output_type": "stream",
          "name": "stdout",
          "text": [
            "[[0 1 0 1]\n",
            " [1 0 1 0]\n",
            " [0 1 0 1]\n",
            " [1 0 1 0]]\n"
          ]
        }
      ]
    },
    {
      "cell_type": "code",
      "source": [
        "def normalize_adjacency_matrix(adjacency_matrix):\n",
        "    # Step 2: Calculate the degree matrix\n",
        "    degree_matrix = np.diag(np.sum(adjacency_matrix, axis=1))\n",
        "    print(\"degree_matrix:\\n\", degree_matrix)\n",
        "\n",
        "    # Step 3: Compute the inverse square root of the degree matrix\n",
        "    degree_matrix_inv_sqrt = np.diag(1 / np.sqrt(np.sum(adjacency_matrix, axis=1)))\n",
        "\n",
        "    # Step 4: Compute the product of the inverse square root of the degree matrix and the adjacency matrix\n",
        "    symmetric_normalized_adjacency_matrix = np.dot(degree_matrix_inv_sqrt, np.dot(adjacency_matrix, degree_matrix_inv_sqrt))\n",
        "\n",
        "    # Step 5: Compute the product of the result obtained in step 4 and the inverse square root of the degree matrix again\n",
        "    symmetric_normalized_adjacency_matrix = np.dot(degree_matrix_inv_sqrt, np.dot(symmetric_normalized_adjacency_matrix, degree_matrix_inv_sqrt))\n",
        "\n",
        "    # Step 6: The resulting matrix is the symmetric normalized adjacency matrix\n",
        "    \n",
        "    return symmetric_normalized_adjacency_matrix"
      ],
      "metadata": {
        "id": "wTSelg21Xc4T"
      },
      "execution_count": 107,
      "outputs": []
    },
    {
      "cell_type": "code",
      "source": [
        "beta = 0.2\n",
        "DAD = beta * normalize_adjacency_matrix(A)\n",
        "print(\"DAD:\\n\", DAD)"
      ],
      "metadata": {
        "colab": {
          "base_uri": "https://localhost:8080/"
        },
        "id": "xs-7Cch1X2yT",
        "outputId": "5f276959-1835-4093-b5c4-a47a05fd852d"
      },
      "execution_count": 108,
      "outputs": [
        {
          "output_type": "stream",
          "name": "stdout",
          "text": [
            "degree_matrix:\n",
            " [[2 0 0 0]\n",
            " [0 2 0 0]\n",
            " [0 0 2 0]\n",
            " [0 0 0 2]]\n",
            "DAD:\n",
            " [[0.   0.05 0.   0.05]\n",
            " [0.05 0.   0.05 0.  ]\n",
            " [0.   0.05 0.   0.05]\n",
            " [0.05 0.   0.05 0.  ]]\n"
          ]
        }
      ]
    },
    {
      "cell_type": "markdown",
      "source": [
        "### Display Lower Triangular Matrix"
      ],
      "metadata": {
        "id": "wOrrLjwjYO4y"
      }
    },
    {
      "cell_type": "code",
      "source": [
        "DAD_lower = np.tril(DAD)\n",
        "print(DAD_lower)"
      ],
      "metadata": {
        "colab": {
          "base_uri": "https://localhost:8080/"
        },
        "id": "nqsth1ajYNKm",
        "outputId": "48d07b2d-2557-484d-9b2e-24e3eeff5914"
      },
      "execution_count": 109,
      "outputs": [
        {
          "output_type": "stream",
          "name": "stdout",
          "text": [
            "[[0.   0.   0.   0.  ]\n",
            " [0.05 0.   0.   0.  ]\n",
            " [0.   0.05 0.   0.  ]\n",
            " [0.05 0.   0.05 0.  ]]\n"
          ]
        }
      ]
    },
    {
      "cell_type": "markdown",
      "source": [
        "### Display Upper Triangular Matrix"
      ],
      "metadata": {
        "id": "xBJKrq6xY1Y6"
      }
    },
    {
      "cell_type": "code",
      "source": [
        "DAD_upper = np.triu(DAD)\n",
        "print(DAD)"
      ],
      "metadata": {
        "id": "og4aB15MYs_S",
        "colab": {
          "base_uri": "https://localhost:8080/"
        },
        "outputId": "49c31dc5-47d2-4d7e-a712-b59ec30461d7"
      },
      "execution_count": 110,
      "outputs": [
        {
          "output_type": "stream",
          "name": "stdout",
          "text": [
            "[[0.   0.05 0.   0.05]\n",
            " [0.05 0.   0.05 0.  ]\n",
            " [0.   0.05 0.   0.05]\n",
            " [0.05 0.   0.05 0.  ]]\n"
          ]
        }
      ]
    },
    {
      "cell_type": "markdown",
      "source": [
        "### Check if lower triangular and upper triangular matrix are equal"
      ],
      "metadata": {
        "id": "6TLLlQFLcxwj"
      }
    },
    {
      "cell_type": "code",
      "source": [
        "DAD_upper_transpose = DAD_upper.transpose()\n",
        "\n",
        "if np.array_equal(DAD_lower, DAD_upper_transpose):\n",
        "    print(\"lower triangular and upper triangular matrices are equal\")"
      ],
      "metadata": {
        "id": "iATUXJ5GdBFq",
        "colab": {
          "base_uri": "https://localhost:8080/"
        },
        "outputId": "8e724fd9-2951-4fab-9e7f-4d09a89c0cad"
      },
      "execution_count": 111,
      "outputs": [
        {
          "output_type": "stream",
          "name": "stdout",
          "text": [
            "lower triangular and upper triangular matrices are equal\n"
          ]
        }
      ]
    }
  ]
}
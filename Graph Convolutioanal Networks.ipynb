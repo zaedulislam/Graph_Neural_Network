{
 "cells": [
  {
   "cell_type": "markdown",
   "metadata": {},
   "source": [
    "## The basic maths for processing graph-structured data"
   ]
  },
  {
   "cell_type": "code",
   "execution_count": 8,
   "metadata": {},
   "outputs": [],
   "source": [
    "import torch"
   ]
  },
  {
   "cell_type": "markdown",
   "metadata": {},
   "source": [
    "### Adjacency Matrix with random values\n",
    "`torch.rand(*size, *, out=None, dtype=None, layout=torch.strided, device=None, requires_grad=False) → Tensor`\n",
    "\n",
    "Returns a tensor filled with random numbers from a uniform distribution on the interval [0, 1). The shape of the tensor is defined by the variable argument **size**."
   ]
  },
  {
   "cell_type": "code",
   "execution_count": 24,
   "metadata": {},
   "outputs": [
    {
     "name": "stdout",
     "output_type": "stream",
     "text": [
      "tensor([[0.6879, 0.7145, 0.5458],\n",
      "        [0.6777, 0.8877, 0.7386],\n",
      "        [0.7016, 0.5337, 0.3681]])\n"
     ]
    }
   ],
   "source": [
    "adjacencyMatrix = torch.rand(size = (3, 3))\n",
    "print(adjacencyMatrix)"
   ]
  },
  {
   "cell_type": "markdown",
   "metadata": {},
   "source": [
    "Update the `adjacencyMatrix` with 0 or 1 conditionally"
   ]
  },
  {
   "cell_type": "code",
   "execution_count": 35,
   "metadata": {},
   "outputs": [
    {
     "name": "stdout",
     "output_type": "stream",
     "text": [
      "Adjacency Matrix =\n",
      " tensor([[1., 1., 1.],\n",
      "        [1., 1., 1.],\n",
      "        [1., 1., 0.]])\n"
     ]
    }
   ],
   "source": [
    "adjacencyMatrix[adjacencyMatrix > 0.5] = 1\n",
    "adjacencyMatrix[adjacencyMatrix <= 0.5] = 0\n",
    "print(\"Adjacency Matrix =\\n\", adjacencyMatrix)"
   ]
  },
  {
   "cell_type": "code",
   "execution_count": 37,
   "metadata": {},
   "outputs": [],
   "source": [
    "def calculateDegreeMatrix(adjacencyMatrix):\n",
    "    return torch.diag(adjacencyMatrix.sum(dim = -1))"
   ]
  },
  {
   "cell_type": "code",
   "execution_count": 38,
   "metadata": {},
   "outputs": [
    {
     "name": "stdout",
     "output_type": "stream",
     "text": [
      "Degree Matrix =\n",
      " tensor([[3., 0., 0.],\n",
      "        [0., 3., 0.],\n",
      "        [0., 0., 2.]])\n"
     ]
    }
   ],
   "source": [
    "degreeMatrix = calculateDegreeMatrix(adjacencyMatrix)\n",
    "print(\"Degree Matrix =\\n\", degreeMatrix)"
   ]
  }
 ],
 "metadata": {
  "interpreter": {
   "hash": "ae0db0e75d56f3e4b8042e38ed961b26e1407325acba47aec7f1565fb4de125b"
  },
  "kernelspec": {
   "display_name": "Python 3.8.8 64-bit ('base': conda)",
   "language": "python",
   "name": "python3"
  },
  "language_info": {
   "codemirror_mode": {
    "name": "ipython",
    "version": 3
   },
   "file_extension": ".py",
   "mimetype": "text/x-python",
   "name": "python",
   "nbconvert_exporter": "python",
   "pygments_lexer": "ipython3",
   "version": "3.8.8"
  },
  "orig_nbformat": 4
 },
 "nbformat": 4,
 "nbformat_minor": 2
}
